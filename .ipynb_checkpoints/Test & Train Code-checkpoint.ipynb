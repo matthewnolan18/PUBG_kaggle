{
 "cells": [
  {
   "cell_type": "code",
   "execution_count": 57,
   "metadata": {},
   "outputs": [],
   "source": [
    "import numpy as np\n",
    "import pandas as pd\n",
    "import matplotlib.pyplot as plt \n",
    "# machine learning libraries\n",
    "from sklearn.ensemble import RandomForestRegressor"
   ]
  },
  {
   "cell_type": "code",
   "execution_count": 58,
   "metadata": {},
   "outputs": [],
   "source": [
    "###Read in training data\n",
    "pd.options.display.float_format = '{:,.2f}'.format\n",
    "train = pd.read_csv('/Users/Matthew/Documents/Documents/Python/PUBG_kaggle-master/train_V2.csv')"
   ]
  },
  {
   "cell_type": "code",
   "execution_count": 59,
   "metadata": {},
   "outputs": [],
   "source": [
    "###Clean Training data\n",
    "train.columns = [c.replace(' ', '_') for c in train.columns]\n",
    "train=train.dropna(axis=0)\n"
   ]
  },
  {
   "cell_type": "code",
   "execution_count": 60,
   "metadata": {},
   "outputs": [],
   "source": [
    "###Add Desired Columns to training data\n",
    "train['kills_per_meter'] = train['kills']/train['walkDistance']\n",
    "train['heals_damage'] = train['heals']/train['damageDealt']\n",
    "train['boosts_damage'] = train['boosts']/train['damageDealt']\n",
    "train['DBNO-Kills'] = train['DBNOs']-train['kills']\n",
    "train['kills*kill%'] = train['kills']*train['killPlace']\n",
    "train['vehicle_use'] = 0\n",
    "train.loc[(train['rideDistance'] > 0),'vehicle_use'] = 1\n",
    "train['water_use'] = 0\n",
    "train.loc[(train['swimDistance'] > 0),'water_use'] = 1\n",
    "train['rotten_team'] = 0\n",
    "train.loc[(train['teamKills'] > 0),'rotten_team'] = 1\n",
    "train['weaponsbin']=pd.cut(train['weaponsAcquired'],5,labels=[1,2,3,4,5])\n",
    "train['walkDistance2']=train['walkDistance']**2\n",
    "vlist=['assists','damageDealt','headshotKills','killPlace','kills','roadKills','DBNO-Kills']\n",
    "for v in vlist:\n",
    "    train[v]=train[v]/train['maxPlace']\n",
    "tlist=['kills_per_meter','heals_damage','boosts_damage']\n",
    "for t in tlist:\n",
    "    m = train.loc[train[t] != np.inf, t].mean()\n",
    "    train[t].replace(np.inf,m,inplace=True)\n",
    "    train[t].fillna(m,inplace=True)\n"
   ]
  },
  {
   "cell_type": "code",
   "execution_count": 61,
   "metadata": {},
   "outputs": [],
   "source": [
    "###Get rid of unneccessary columns from train data\n",
    "droplist=['Id', 'groupId', 'matchId', 'DBNOs', 'killStreaks','numGroups', 'rankPoints', 'rideDistance','swimDistance', 'teamKills', 'vehicleDestroys', 'weaponsAcquired']\n",
    "for v in droplist:\n",
    "    train=train.drop(v , axis=1)"
   ]
  },
  {
   "cell_type": "code",
   "execution_count": 62,
   "metadata": {},
   "outputs": [],
   "source": [
    "###Define Data Clusters in train \n",
    "train['matchType2']=train['matchType'].str.replace('-','')\n",
    "match_type=[]\n",
    "for x in train['matchType2'].unique():\n",
    "    match_type.append(x)"
   ]
  },
  {
   "cell_type": "code",
   "execution_count": 63,
   "metadata": {},
   "outputs": [],
   "source": [
    "###Separate training Data\n",
    "train_list=[]\n",
    "for m in match_type:\n",
    "    m=pd.DataFrame(train[train['matchType2']==m]).drop('matchType' , axis=1).drop('matchType2' , axis=1)\n",
    "    train_list.append(m)"
   ]
  },
  {
   "cell_type": "code",
   "execution_count": 64,
   "metadata": {},
   "outputs": [
    {
     "name": "stdout",
     "output_type": "stream",
     "text": [
      "<class 'pandas.core.frame.DataFrame'>\n",
      "RangeIndex: 1934174 entries, 0 to 1934173\n",
      "Data columns (total 28 columns):\n",
      "Id                 object\n",
      "groupId            object\n",
      "matchId            object\n",
      "assists            int64\n",
      "boosts             int64\n",
      "damageDealt        float64\n",
      "DBNOs              int64\n",
      "headshotKills      int64\n",
      "heals              int64\n",
      "killPlace          int64\n",
      "killPoints         int64\n",
      "kills              int64\n",
      "killStreaks        int64\n",
      "longestKill        float64\n",
      "matchDuration      int64\n",
      "matchType          object\n",
      "maxPlace           int64\n",
      "numGroups          int64\n",
      "rankPoints         int64\n",
      "revives            int64\n",
      "rideDistance       float64\n",
      "roadKills          int64\n",
      "swimDistance       float64\n",
      "teamKills          int64\n",
      "vehicleDestroys    int64\n",
      "walkDistance       float64\n",
      "weaponsAcquired    int64\n",
      "winPoints          int64\n",
      "dtypes: float64(5), int64(19), object(4)\n",
      "memory usage: 413.2+ MB\n"
     ]
    }
   ],
   "source": [
    "###Read in test data\n",
    "pd.options.display.float_format = '{:,.2f}'.format\n",
    "test = pd.read_csv('/Users/Matthew/Documents/Documents/Python/PUBG_kaggle-master/test_V2.csv')\n",
    "test.info()"
   ]
  },
  {
   "cell_type": "code",
   "execution_count": 65,
   "metadata": {},
   "outputs": [
    {
     "data": {
      "text/plain": [
       "Index(['Id', 'groupId', 'matchId', 'assists', 'boosts', 'damageDealt', 'DBNOs',\n",
       "       'headshotKills', 'heals', 'killPlace', 'killPoints', 'kills',\n",
       "       'killStreaks', 'longestKill', 'matchDuration', 'matchType', 'maxPlace',\n",
       "       'numGroups', 'rankPoints', 'revives', 'rideDistance', 'roadKills',\n",
       "       'swimDistance', 'teamKills', 'vehicleDestroys', 'walkDistance',\n",
       "       'weaponsAcquired', 'winPoints'],\n",
       "      dtype='object')"
      ]
     },
     "execution_count": 65,
     "metadata": {},
     "output_type": "execute_result"
    }
   ],
   "source": [
    "###Clean test data\n",
    "test.columns = [c.replace(' ', '_') for c in test.columns]\n",
    "test=test.dropna(axis=0)\n",
    "test.columns"
   ]
  },
  {
   "cell_type": "code",
   "execution_count": 66,
   "metadata": {},
   "outputs": [],
   "source": [
    "###Add Desired Columns to test data\n",
    "test['kills_per_meter'] = test['kills']/test['walkDistance']\n",
    "test['heals_damage'] = test['heals']/test['damageDealt']\n",
    "test['boosts_damage'] = test['boosts']/test['damageDealt']\n",
    "test['DBNO-Kills'] = test['DBNOs']-test['kills']\n",
    "test['kills*kill%'] = test['kills']*test['killPlace']\n",
    "test['vehicle_use'] = 0\n",
    "test.loc[(test['rideDistance'] > 0),'vehicle_use'] = 1\n",
    "test['water_use'] = 0\n",
    "test.loc[(test['swimDistance'] > 0),'water_use'] = 1\n",
    "test['rotten_team'] = 0\n",
    "test.loc[(test['teamKills'] > 0),'rotten_team'] = 1\n",
    "test['weaponsbin']=pd.cut(test['weaponsAcquired'],5,labels=[1,2,3,4,5])\n",
    "test['walkDistance2']=test['walkDistance']**2\n",
    "vlist=['assists','damageDealt','headshotKills','killPlace','kills','roadKills','DBNO-Kills']\n",
    "for v in vlist:\n",
    "    test[v]=test[v]/test['maxPlace']\n",
    "tlist=['kills_per_meter','heals_damage','boosts_damage']\n",
    "for t in tlist:\n",
    "    m = test.loc[test[t] != np.inf, t].mean()\n",
    "    test[t].replace(np.inf,m,inplace=True)\n",
    "    test[t].fillna(m,inplace=True)\n"
   ]
  },
  {
   "cell_type": "code",
   "execution_count": 67,
   "metadata": {},
   "outputs": [],
   "source": [
    "###Get rid of unneccessary columns from test data\n",
    "droplist=['Id', 'groupId', 'matchId', 'DBNOs', 'killStreaks','numGroups', 'rankPoints', 'rideDistance','swimDistance', 'teamKills', 'vehicleDestroys','weaponsAcquired']\n",
    "for v in droplist:\n",
    "    test=test.drop(v , axis=1)"
   ]
  },
  {
   "cell_type": "code",
   "execution_count": 68,
   "metadata": {},
   "outputs": [],
   "source": [
    "###Define Data Clusters in test\n",
    "test['matchType2']=test['matchType'].str.replace('-','')\n",
    "match_type=[]\n",
    "for x in test['matchType2'].unique():\n",
    "    match_type.append(x)"
   ]
  },
  {
   "cell_type": "code",
   "execution_count": 69,
   "metadata": {},
   "outputs": [],
   "source": [
    "###Separate test Data \n",
    "test_list=[]\n",
    "for m in match_type:\n",
    "    m=pd.DataFrame(test[test['matchType2']==m]).drop('matchType' , axis=1).drop('matchType2' , axis=1)\n",
    "    test_list.append(m)"
   ]
  },
  {
   "cell_type": "code",
   "execution_count": 70,
   "metadata": {},
   "outputs": [
    {
     "name": "stdout",
     "output_type": "stream",
     "text": [
      "squadfpp  random_forest training acuracy=  0.97880835076054\n",
      "               importance\n",
      "walkDistance2        0.54\n",
      "walkDistance         0.16             importance\n",
      "roadKills         0.00\n",
      "weaponsbin        0.00\n",
      "duofpp  random_forest training acuracy=  0.983921900725244\n",
      "               importance\n",
      "walkDistance         0.40\n",
      "walkDistance2        0.30             importance\n",
      "roadKills         0.00\n",
      "weaponsbin        0.00\n",
      "squad  random_forest training acuracy=  0.9902763537627867\n",
      "               importance\n",
      "walkDistance2        0.44\n",
      "walkDistance         0.33             importance\n",
      "weaponsbin        0.00\n",
      "revives           0.00\n",
      "solofpp  random_forest training acuracy=  0.9754331830866874\n",
      "               importance\n",
      "walkDistance2        0.49\n",
      "killPlace            0.21             importance\n",
      "roadKills         0.00\n",
      "weaponsbin        0.00\n",
      "solo  random_forest training acuracy=  0.9865368883053511\n",
      "               importance\n",
      "walkDistance2        0.72\n",
      "killPlace            0.17             importance\n",
      "roadKills         0.00\n",
      "weaponsbin        0.00\n",
      "duo  random_forest training acuracy=  0.9823823581673992\n",
      "              importance\n",
      "walkDistance        0.67\n",
      "killPlace           0.17             importance\n",
      "revives           0.00\n",
      "weaponsbin        0.00\n",
      "normalsquadfpp  random_forest training acuracy=  0.8848278740146582\n",
      "                 importance\n",
      "killPlace              0.40\n",
      "kills_per_meter        0.09             importance\n",
      "roadKills         0.00\n",
      "weaponsbin        0.00\n",
      "crashtpp  random_forest training acuracy=  0.976601557913093\n",
      "             importance\n",
      "killPlace          0.70\n",
      "kills*kill%        0.17             importance\n",
      "killPoints        0.00\n",
      "weaponsbin        0.00\n",
      "normalduofpp  random_forest training acuracy=  0.9743413361382263\n",
      "              importance\n",
      "walkDistance        0.49\n",
      "killPlace           0.20             importance\n",
      "roadKills         0.00\n",
      "weaponsbin        0.00\n",
      "crashfpp  random_forest training acuracy=  0.9179906305795338\n",
      "               importance\n",
      "killPlace            0.62\n",
      "walkDistance2        0.04            importance\n",
      "roadKills        0.00\n",
      "revives          0.00\n",
      "normalduo  random_forest training acuracy=  0.9753953141636867\n",
      "               importance\n",
      "walkDistance         0.47\n",
      "walkDistance2        0.30             importance\n",
      "winPoints         0.00\n",
      "weaponsbin        0.00\n",
      "flaretpp  random_forest training acuracy=  0.9459672410063236\n",
      "                 importance\n",
      "killPlace              0.67\n",
      "kills_per_meter        0.05             importance\n",
      "roadKills         0.00\n",
      "weaponsbin        0.00\n",
      "normalsolofpp  random_forest training acuracy=  0.8427090428612519\n",
      "                 importance\n",
      "killPlace              0.58\n",
      "kills_per_meter        0.08            importance\n",
      "winPoints        0.00\n",
      "water_use        0.00\n",
      "normalsolo  random_forest training acuracy=  0.8193866021885474\n",
      "             importance\n",
      "killPlace          0.39\n",
      "damageDealt        0.09             importance\n",
      "weaponsbin        0.00\n",
      "roadKills         0.00\n",
      "flarefpp  random_forest training acuracy=  0.9760701017495315\n",
      "             importance\n",
      "killPlace          0.68\n",
      "kills*kill%        0.21             importance\n",
      "winPoints         0.00\n",
      "weaponsbin        0.00\n",
      "normalsquad  random_forest training acuracy=  0.8863407454282477\n",
      "               importance\n",
      "killPlace            0.59\n",
      "walkDistance2        0.08            importance\n",
      "revives          0.00\n",
      "roadKills        0.00\n",
      "done\n"
     ]
    }
   ],
   "source": [
    "###Create random jungle (better than forest)\n",
    "random_forest = RandomForestRegressor(n_estimators=5)\n",
    "for t in range(16):  \n",
    "    X_train = train_list[t].drop('winPlacePerc', axis=1)\n",
    "    Y_train = train_list[t]['winPlacePerc']\n",
    "    X_test = test_list[t]\n",
    "    #Y_test = test_list[t]['winPlacePerc']\n",
    "    random_forest.fit(X_train, Y_train)\n",
    "    random_forest_train_acc = random_forest.score(X_train, Y_train)\n",
    "    #random_forest_test_acc = random_forest.score(X_test, Y_test)\n",
    "    print(match_type[t], ' random_forest training acuracy= ',random_forest_train_acc)\n",
    "    feature_importances = pd.DataFrame(random_forest.feature_importances_, index = X_train.columns,\n",
    "                                    columns=['importance']).sort_values('importance', ascending=False)\n",
    "    print(feature_importances.head(2), feature_importances.tail(2))\n",
    "    #print('random_forest test accuracy= ',random_forest_test_acc)\n",
    "print('done')"
   ]
  },
  {
   "cell_type": "code",
   "execution_count": 74,
   "metadata": {},
   "outputs": [
    {
     "data": {
      "text/html": [
       "<div>\n",
       "<style scoped>\n",
       "    .dataframe tbody tr th:only-of-type {\n",
       "        vertical-align: middle;\n",
       "    }\n",
       "\n",
       "    .dataframe tbody tr th {\n",
       "        vertical-align: top;\n",
       "    }\n",
       "\n",
       "    .dataframe thead th {\n",
       "        text-align: right;\n",
       "    }\n",
       "</style>\n",
       "<table border=\"1\" class=\"dataframe\">\n",
       "  <thead>\n",
       "    <tr style=\"text-align: right;\">\n",
       "      <th></th>\n",
       "      <th>0</th>\n",
       "    </tr>\n",
       "  </thead>\n",
       "  <tbody>\n",
       "    <tr>\n",
       "      <th>0</th>\n",
       "      <td>0.55</td>\n",
       "    </tr>\n",
       "    <tr>\n",
       "      <th>1</th>\n",
       "      <td>0.83</td>\n",
       "    </tr>\n",
       "    <tr>\n",
       "      <th>2</th>\n",
       "      <td>0.27</td>\n",
       "    </tr>\n",
       "    <tr>\n",
       "      <th>3</th>\n",
       "      <td>0.27</td>\n",
       "    </tr>\n",
       "    <tr>\n",
       "      <th>4</th>\n",
       "      <td>0.28</td>\n",
       "    </tr>\n",
       "  </tbody>\n",
       "</table>\n",
       "</div>"
      ],
      "text/plain": [
       "     0\n",
       "0 0.55\n",
       "1 0.83\n",
       "2 0.27\n",
       "3 0.27\n",
       "4 0.28"
      ]
     },
     "execution_count": 74,
     "metadata": {},
     "output_type": "execute_result"
    }
   ],
   "source": [
    "###generate prediction and spit to csv\n",
    "predicted = pd.DataFrame(random_forest.predict(X_test), )\n",
    "#predicted.to_csv('path to save to', sep='\\t')\n",
    "predicted.head()"
   ]
  },
  {
   "cell_type": "code",
   "execution_count": null,
   "metadata": {},
   "outputs": [],
   "source": []
  },
  {
   "cell_type": "code",
   "execution_count": null,
   "metadata": {},
   "outputs": [],
   "source": [
    "#X_train[~X_train.isin([np.nan, np.inf, -np.inf]).any(1)]"
   ]
  },
  {
   "cell_type": "code",
   "execution_count": null,
   "metadata": {},
   "outputs": [],
   "source": []
  }
 ],
 "metadata": {
  "kernelspec": {
   "display_name": "Python 3",
   "language": "python",
   "name": "python3"
  },
  "language_info": {
   "codemirror_mode": {
    "name": "ipython",
    "version": 3
   },
   "file_extension": ".py",
   "mimetype": "text/x-python",
   "name": "python",
   "nbconvert_exporter": "python",
   "pygments_lexer": "ipython3",
   "version": "3.6.6"
  }
 },
 "nbformat": 4,
 "nbformat_minor": 2
}
