{
 "cells": [
  {
   "cell_type": "code",
   "execution_count": 2,
   "metadata": {},
   "outputs": [],
   "source": [
    "import numpy as np\n",
    "import pandas as pd\n",
    "import matplotlib.pyplot as plt \n",
    "# machine learning libraries\n",
    "from sklearn.ensemble import RandomForestRegressor"
   ]
  },
  {
   "cell_type": "code",
   "execution_count": 3,
   "metadata": {},
   "outputs": [],
   "source": [
    "###Read in training data\n",
    "pd.options.display.float_format = '{:,.2f}'.format\n",
    "train = pd.read_csv('F:/Ben & Matt Project/Training Data/Old/train_V2.csv')"
   ]
  },
  {
   "cell_type": "code",
   "execution_count": 4,
   "metadata": {},
   "outputs": [],
   "source": [
    "###Clean Training data\n",
    "train.columns = [c.replace(' ', '_') for c in train.columns]\n",
    "train=train.dropna(axis=0)\n"
   ]
  },
  {
   "cell_type": "code",
   "execution_count": 5,
   "metadata": {},
   "outputs": [
    {
     "name": "stderr",
     "output_type": "stream",
     "text": [
      "C:\\Users\\bensm\\Anaconda3\\lib\\site-packages\\ipykernel_launcher.py:4: RuntimeWarning: divide by zero encountered in log\n",
      "  after removing the cwd from sys.path.\n"
     ]
    }
   ],
   "source": [
    "###Add Desired Columns to training data\n",
    "train['DBNO-Kills'] = train['DBNOs']-train['kills']\n",
    "train['kills*kill%'] = train['kills']*train['killPlace']\n",
    "train['log_longestkill'] = np.log(train.longestKill)\n",
    "train['vehicle_use'] = 0\n",
    "train.loc[(train['rideDistance'] > 0),'vehicle_use'] = 1\n",
    "train['water_use'] = 0\n",
    "train.loc[(train['swimDistance'] > 0),'water_use'] = 1\n",
    "train['rotten_team'] = 0\n",
    "train.loc[(train['teamKills'] > 0),'rotten_team'] = 1\n",
    "train['weaponsbin']=pd.cut(train['weaponsAcquired'],5,labels=[1,2,3,4,5])\n",
    "train['walkDistance2']=train['walkDistance']**2\n",
    "vlist=['assists','damageDealt','headshotKills','killPlace','kills','roadKills','DBNO-Kills']\n",
    "for v in vlist:\n",
    "    train[v]=train[v]/train['maxPlace']\n"
   ]
  },
  {
   "cell_type": "code",
   "execution_count": 6,
   "metadata": {},
   "outputs": [],
   "source": [
    "###Get rid of unneccessary columns from train data\n",
    "droplist=['Id', 'groupId', 'matchId', 'DBNOs', 'killStreaks','numGroups', 'rankPoints', 'rideDistance','swimDistance', 'teamKills', 'vehicleDestroys']\n",
    "for v in droplist:\n",
    "    train=train.drop(v , axis=1)"
   ]
  },
  {
   "cell_type": "code",
   "execution_count": 7,
   "metadata": {},
   "outputs": [],
   "source": [
    "###Define Data Clusters in train \n",
    "train['matchType2']=train['matchType'].str.replace('-','')\n",
    "match_type=[]\n",
    "for x in train['matchType2'].unique():\n",
    "    match_type.append(x)"
   ]
  },
  {
   "cell_type": "code",
   "execution_count": 8,
   "metadata": {},
   "outputs": [],
   "source": [
    "###Separate training Data\n",
    "train_list=[]\n",
    "for m in match_type:\n",
    "    m=pd.DataFrame(train[train['matchType2']==m]).drop('matchType' , axis=1).drop('matchType2' , axis=1)\n",
    "    train_list.append(m)"
   ]
  },
  {
   "cell_type": "code",
   "execution_count": 9,
   "metadata": {},
   "outputs": [
    {
     "name": "stdout",
     "output_type": "stream",
     "text": [
      "<class 'pandas.core.frame.DataFrame'>\n",
      "RangeIndex: 1934174 entries, 0 to 1934173\n",
      "Data columns (total 28 columns):\n",
      "Id                 object\n",
      "groupId            object\n",
      "matchId            object\n",
      "assists            int64\n",
      "boosts             int64\n",
      "damageDealt        float64\n",
      "DBNOs              int64\n",
      "headshotKills      int64\n",
      "heals              int64\n",
      "killPlace          int64\n",
      "killPoints         int64\n",
      "kills              int64\n",
      "killStreaks        int64\n",
      "longestKill        float64\n",
      "matchDuration      int64\n",
      "matchType          object\n",
      "maxPlace           int64\n",
      "numGroups          int64\n",
      "rankPoints         int64\n",
      "revives            int64\n",
      "rideDistance       float64\n",
      "roadKills          int64\n",
      "swimDistance       float64\n",
      "teamKills          int64\n",
      "vehicleDestroys    int64\n",
      "walkDistance       float64\n",
      "weaponsAcquired    int64\n",
      "winPoints          int64\n",
      "dtypes: float64(5), int64(19), object(4)\n",
      "memory usage: 413.2+ MB\n"
     ]
    }
   ],
   "source": [
    "###Read in test data\n",
    "pd.options.display.float_format = '{:,.2f}'.format\n",
    "test = pd.read_csv('F:/Ben & Matt Project/test_V2.csv')\n",
    "test.info()"
   ]
  },
  {
   "cell_type": "code",
   "execution_count": 10,
   "metadata": {},
   "outputs": [
    {
     "data": {
      "text/plain": [
       "Index(['Id', 'groupId', 'matchId', 'assists', 'boosts', 'damageDealt', 'DBNOs',\n",
       "       'headshotKills', 'heals', 'killPlace', 'killPoints', 'kills',\n",
       "       'killStreaks', 'longestKill', 'matchDuration', 'matchType', 'maxPlace',\n",
       "       'numGroups', 'rankPoints', 'revives', 'rideDistance', 'roadKills',\n",
       "       'swimDistance', 'teamKills', 'vehicleDestroys', 'walkDistance',\n",
       "       'weaponsAcquired', 'winPoints'],\n",
       "      dtype='object')"
      ]
     },
     "execution_count": 10,
     "metadata": {},
     "output_type": "execute_result"
    }
   ],
   "source": [
    "###Clean test data\n",
    "test.columns = [c.replace(' ', '_') for c in test.columns]\n",
    "test=test.dropna(axis=0)\n",
    "test.columns"
   ]
  },
  {
   "cell_type": "code",
   "execution_count": 11,
   "metadata": {},
   "outputs": [
    {
     "name": "stderr",
     "output_type": "stream",
     "text": [
      "C:\\Users\\bensm\\Anaconda3\\lib\\site-packages\\ipykernel_launcher.py:4: RuntimeWarning: divide by zero encountered in log\n",
      "  after removing the cwd from sys.path.\n"
     ]
    }
   ],
   "source": [
    "###Add Desired Columns to test data\n",
    "test['DBNO-Kills'] = test['DBNOs']-test['kills']\n",
    "test['kills*kill%'] = test['kills']*test['killPlace']\n",
    "test['log_longestkill'] = np.log(test.longestKill)\n",
    "test['vehicle_use'] = 0\n",
    "test.loc[(test['rideDistance'] > 0),'vehicle_use'] = 1\n",
    "test['water_use'] = 0\n",
    "test.loc[(test['swimDistance'] > 0),'water_use'] = 1\n",
    "test['rotten_team'] = 0\n",
    "test.loc[(test['teamKills'] > 0),'rotten_team'] = 1\n",
    "test['weaponsbin']=pd.cut(test['weaponsAcquired'],5,labels=[1,2,3,4,5])\n",
    "test['walkDistance2']=test['walkDistance']**2\n",
    "vlist=['assists','damageDealt','headshotKills','killPlace','kills','roadKills','DBNO-Kills']\n",
    "for v in vlist:\n",
    "    test[v]=test[v]/test['maxPlace']\n"
   ]
  },
  {
   "cell_type": "code",
   "execution_count": 12,
   "metadata": {},
   "outputs": [],
   "source": [
    "###Get rid of unneccessary columns from test data\n",
    "droplist=['Id', 'groupId', 'matchId', 'DBNOs', 'killStreaks','numGroups', 'rankPoints', 'rideDistance','swimDistance', 'teamKills', 'vehicleDestroys']\n",
    "for v in droplist:\n",
    "    test=test.drop(v , axis=1)"
   ]
  },
  {
   "cell_type": "code",
   "execution_count": 13,
   "metadata": {},
   "outputs": [],
   "source": [
    "###Define Data Clusters in test\n",
    "test['matchType2']=test['matchType'].str.replace('-','')\n",
    "match_type=[]\n",
    "for x in test['matchType2'].unique():\n",
    "    match_type.append(x)"
   ]
  },
  {
   "cell_type": "code",
   "execution_count": 14,
   "metadata": {},
   "outputs": [],
   "source": [
    "###Separate test Data \n",
    "test_list=[]\n",
    "for m in match_type:\n",
    "    m=pd.DataFrame(test[test['matchType2']==m]).drop('matchType' , axis=1).drop('matchType2' , axis=1)\n",
    "    test_list.append(m)"
   ]
  },
  {
   "cell_type": "code",
   "execution_count": 21,
   "metadata": {},
   "outputs": [
    {
     "name": "stdout",
     "output_type": "stream",
     "text": [
      "squadfpp  random_forest training acuracy=  0.9789260684946623\n",
      "               importance\n",
      "walkDistance2        0.56\n",
      "killPlace            0.16             importance\n",
      "roadKills         0.00\n",
      "weaponsbin        0.00\n"
     ]
    },
    {
     "ename": "NameError",
     "evalue": "name 'predict' is not defined",
     "output_type": "error",
     "traceback": [
      "\u001b[1;31m---------------------------------------------------------------------------\u001b[0m",
      "\u001b[1;31mNameError\u001b[0m                                 Traceback (most recent call last)",
      "\u001b[1;32m<ipython-input-21-f77fa5e678a4>\u001b[0m in \u001b[0;36m<module>\u001b[1;34m()\u001b[0m\n\u001b[0;32m     14\u001b[0m     \u001b[0mprint\u001b[0m\u001b[1;33m(\u001b[0m\u001b[0mfeature_importances\u001b[0m\u001b[1;33m.\u001b[0m\u001b[0mhead\u001b[0m\u001b[1;33m(\u001b[0m\u001b[1;36m2\u001b[0m\u001b[1;33m)\u001b[0m\u001b[1;33m,\u001b[0m \u001b[0mfeature_importances\u001b[0m\u001b[1;33m.\u001b[0m\u001b[0mtail\u001b[0m\u001b[1;33m(\u001b[0m\u001b[1;36m2\u001b[0m\u001b[1;33m)\u001b[0m\u001b[1;33m)\u001b[0m\u001b[1;33m\u001b[0m\u001b[0m\n\u001b[0;32m     15\u001b[0m     \u001b[1;31m#print('random_forest test accuracy= ',random_forest_test_acc)\u001b[0m\u001b[1;33m\u001b[0m\u001b[1;33m\u001b[0m\u001b[0m\n\u001b[1;32m---> 16\u001b[1;33m     \u001b[0mprint\u001b[0m\u001b[1;33m(\u001b[0m\u001b[0mpredict\u001b[0m\u001b[1;33m(\u001b[0m\u001b[0mX_test\u001b[0m\u001b[1;33m)\u001b[0m\u001b[1;33m)\u001b[0m\u001b[1;33m\u001b[0m\u001b[0m\n\u001b[0m\u001b[0;32m     17\u001b[0m \u001b[0mprint\u001b[0m\u001b[1;33m(\u001b[0m\u001b[1;34m'done'\u001b[0m\u001b[1;33m)\u001b[0m\u001b[1;33m\u001b[0m\u001b[0m\n",
      "\u001b[1;31mNameError\u001b[0m: name 'predict' is not defined"
     ]
    }
   ],
   "source": [
    "###Create random jungle (better than forest)\n",
    "random_forest = RandomForestRegressor(n_estimators=5)\n",
    "for t in range(16):  \n",
    "    X_train = train_list[t].drop('winPlacePerc', axis=1).drop('log_longestkill', axis=1)\n",
    "    Y_train = train_list[t]['winPlacePerc']\n",
    "    X_test = test_list[t].drop('log_longestkill', axis=1)\n",
    "    #Y_test = test_list[t]['winPlacePerc']\n",
    "    random_forest.fit(X_train, Y_train)\n",
    "    random_forest_train_acc = random_forest.score(X_train, Y_train)\n",
    "    #random_forest_test_acc = random_forest.score(X_test, Y_test)\n",
    "    print(match_type[t], ' random_forest training acuracy= ',random_forest_train_acc)\n",
    "    feature_importances = pd.DataFrame(random_forest.feature_importances_, index = X_train.columns,\n",
    "                                    columns=['importance']).sort_values('importance', ascending=False)\n",
    "    print(feature_importances.head(2), feature_importances.tail(2))\n",
    "    #print('random_forest test accuracy= ',random_forest_test_acc)\n",
    "print('done')"
   ]
  },
  {
   "cell_type": "code",
   "execution_count": 22,
   "metadata": {},
   "outputs": [
    {
     "name": "stdout",
     "output_type": "stream",
     "text": [
      "[0.19258 0.6046  0.91106 ... 0.41876 0.8964  0.04444]\n"
     ]
    }
   ],
   "source": [
    "###generate prediction and spit to csv\n",
    "predicted = random_forest.predict(X_test)\n",
    "#predicted.to_csv('path to save to', sep='\\t')\n",
    "print(predicted)"
   ]
  },
  {
   "cell_type": "code",
   "execution_count": null,
   "metadata": {},
   "outputs": [],
   "source": []
  },
  {
   "cell_type": "code",
   "execution_count": null,
   "metadata": {},
   "outputs": [],
   "source": []
  }
 ],
 "metadata": {
  "kernelspec": {
   "display_name": "Python 3",
   "language": "python",
   "name": "python3"
  },
  "language_info": {
   "codemirror_mode": {
    "name": "ipython",
    "version": 3
   },
   "file_extension": ".py",
   "mimetype": "text/x-python",
   "name": "python",
   "nbconvert_exporter": "python",
   "pygments_lexer": "ipython3",
   "version": "3.6.5"
  }
 },
 "nbformat": 4,
 "nbformat_minor": 2
}
